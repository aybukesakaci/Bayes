{
 "cells": [
  {
   "cell_type": "code",
   "execution_count": 3,
   "metadata": {},
   "outputs": [
    {
     "name": "stdout",
     "output_type": "stream",
     "text": [
      "A makinesi kaç nesne üretmektedir? = 70\n",
      "B makinesi kaç nesne üretmektedir? = 10\n",
      "C makinesi kaç nesne üretmektedir? = 20\n",
      "A makinesi kaç kusurlu nesne üretmektedir? = 7\n",
      "B makinesi kaç kusurlu nesne üretmektedir? = 5\n",
      "C makinesi kaç kusurlu nesne üretmektedir? = 4\n",
      "Toplam kusurlu üretim: 0.062000000000000006\n",
      "A makinesi kusurlu üretim: 0.049\n",
      "B makinesi kusurlu üretim: 0.005000000000000001\n",
      "C makinesi kusurlu üretim: 0.008\n",
      "Kusurlu olan ürünün A makinesinden üretilme olasılığı 0.7903225806451613\n",
      "Kusurlu olan ürünün B makinesinden üretilme olasılığı 0.08064516129032259\n",
      "Kusurlu olan ürünün C makinesinden üretilme olasılığı 0.12903225806451613\n"
     ]
    }
   ],
   "source": [
    "key=True\n",
    "while key==True:     \n",
    "       \n",
    "    A_Makine = int(input(\"A makinesi kaç nesne üretmektedir? = \"))\n",
    "    B_Makine = int(input(\"B makinesi kaç nesne üretmektedir? = \"))\n",
    "    C_Makine = int(input(\"C makinesi kaç nesne üretmektedir? = \"))\n",
    "    Toplam= A_Makine+B_Makine+C_Makine\n",
    "        \n",
    "    if Toplam == 100:\n",
    "    \n",
    "        A_Makine_Kusurlu = int(input(\"A makinesi kaç kusurlu nesne üretmektedir? = \"))\n",
    "        B_Makine_Kusurlu = int(input(\"B makinesi kaç kusurlu nesne üretmektedir? = \"))\n",
    "        C_Makine_Kusurlu = int(input(\"C makinesi kaç kusurlu nesne üretmektedir? = \"))\n",
    "        Toplam_Kusurlu_Üretim =(A_Makine/100)*(A_Makine_Kusurlu/100)+(B_Makine/100)*(B_Makine_Kusurlu/100)+(C_Makine/100)*(C_Makine_Kusurlu/100)\n",
    "        print('Toplam kusurlu üretim:',Toplam_Kusurlu_Üretim)\n",
    "        A_Makine_Kusurlu_Üretim=(A_Makine/100)*(A_Makine_Kusurlu/100)\n",
    "        B_Makine_Kusurlu_Üretim=(B_Makine/100)*(B_Makine_Kusurlu/100)\n",
    "        C_Makine_Kusurlu_Üretim=(C_Makine/100)*(C_Makine_Kusurlu/100)\n",
    "        print('A makinesi kusurlu üretim:',A_Makine_Kusurlu_Üretim)\n",
    "        print('B makinesi kusurlu üretim:',B_Makine_Kusurlu_Üretim)\n",
    "        print('C makinesi kusurlu üretim:',C_Makine_Kusurlu_Üretim)\n",
    "        Kusurlu_Ürün_A_Makine_Olasılık=A_Makine_Kusurlu_Üretim/Toplam_Kusurlu_Üretim\n",
    "        Kusurlu_Ürün_B_Makine_Olasılık=B_Makine_Kusurlu_Üretim/Toplam_Kusurlu_Üretim\n",
    "        Kusurlu_Ürün_C_Makine_Olasılık=C_Makine_Kusurlu_Üretim/Toplam_Kusurlu_Üretim\n",
    "        print('Kusurlu olan ürünün A makinesinden üretilme olasılığı',Kusurlu_Ürün_A_Makine_Olasılık)\n",
    "        print('Kusurlu olan ürünün B makinesinden üretilme olasılığı',Kusurlu_Ürün_B_Makine_Olasılık)\n",
    "        print('Kusurlu olan ürünün C makinesinden üretilme olasılığı',Kusurlu_Ürün_C_Makine_Olasılık)\n",
    "        key=False\n",
    "        \n",
    "    else:\n",
    "        print('A,B ve C makineleri toplamı 100e eşit olmalıdır!!')\n",
    "        key=True\n",
    "  "
   ]
  },
  {
   "cell_type": "code",
   "execution_count": null,
   "metadata": {},
   "outputs": [],
   "source": []
  },
  {
   "cell_type": "code",
   "execution_count": null,
   "metadata": {},
   "outputs": [],
   "source": []
  },
  {
   "cell_type": "code",
   "execution_count": null,
   "metadata": {},
   "outputs": [],
   "source": []
  }
 ],
 "metadata": {
  "kernelspec": {
   "display_name": "Python 3",
   "language": "python",
   "name": "python3"
  },
  "language_info": {
   "codemirror_mode": {
    "name": "ipython",
    "version": 3
   },
   "file_extension": ".py",
   "mimetype": "text/x-python",
   "name": "python",
   "nbconvert_exporter": "python",
   "pygments_lexer": "ipython3",
   "version": "3.7.1"
  }
 },
 "nbformat": 4,
 "nbformat_minor": 2
}
