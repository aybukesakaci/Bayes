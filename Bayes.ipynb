{
  "nbformat": 4,
  "nbformat_minor": 0,
  "metadata": {
    "colab": {
      "name": "Bayes.ipynb",
      "version": "0.3.2",
      "provenance": [],
      "include_colab_link": true
    },
    "kernelspec": {
      "display_name": "Python 3",
      "language": "python",
      "name": "python3"
    }
  },
  "cells": [
    {
      "cell_type": "markdown",
      "metadata": {
        "id": "view-in-github",
        "colab_type": "text"
      },
      "source": [
        "<a href=\"https://colab.research.google.com/github/aybukesakaci/Bayes/blob/master/Bayes.ipynb\" target=\"_parent\"><img src=\"https://colab.research.google.com/assets/colab-badge.svg\" alt=\"Open In Colab\"/></a>"
      ]
    },
    {
      "metadata": {
        "id": "ttdNkoSWI5RY",
        "colab_type": "text"
      },
      "cell_type": "markdown",
      "source": [
        "**Soru:** Toplam kalem üretimin %30’unu A makinası, %50’sini B makinası geriye kalanını ise C makinası gerçeklestirmektedir. Bu makinaların üretimlerinin sırası ile %4’ü, %2’si ve %5’i kusurlu gerçeklestirilmektedir. Bir günlük üretimin ardından seçilen kalemin kusurlu oldugu bilindigine göre; A makinasından üretilmis olma olasılıgı nedir?"
      ]
    },
    {
      "metadata": {
        "id": "8C0INFjeI4kA",
        "colab_type": "text"
      },
      "cell_type": "markdown",
      "source": [
        "**Cevap**:  X olayının gerçeklesmesi kosulu altında Y olayının olma olasılığını aradığımız için Bayes Teoremi ile çözüm yapılmalıdır."
      ]
    },
    {
      "metadata": {
        "id": "e30yIdGiOgWf",
        "colab_type": "text"
      },
      "cell_type": "markdown",
      "source": [
        "**Örnek Kod:** Bir fabrikaya ait makinelerin üretim ve kusurlu üretim yüzdeleri ekrandan girilerek kusurlu üretilen ürünün A, B ve C makinelerine ait olma ihtimalini hesaplayan kod örneği aşağıdaki gibidir. Girilen üretim sayısı toplamı 100' e eşit olmalıdır. Fazla yada eksik girildiği durumda tekrar yeni değerler beklenmektedir. "
      ]
    },
    {
      "metadata": {
        "id": "GN2rnELEI1nY",
        "colab_type": "code",
        "colab": {
          "base_uri": "https://localhost:8080/",
          "height": 238
        },
        "outputId": "170aed56-93f6-4443-8541-1bd13d539022"
      },
      "cell_type": "code",
      "source": [
        "key=True\n",
        "while key==True:     \n",
        "       \n",
        "    A_Makine = int(input(\"A makinesi toplam ürünlerin % kaçını üretmektedir? = \"))\n",
        "    B_Makine = int(input(\"B makinesi toplam ürünlerin % kaçını üretmektedir? = \"))\n",
        "    C_Makine = int(input(\"C makinesi toplam ürünlerin % kaçını üretmektedir? = \"))\n",
        "    Toplam= A_Makine+B_Makine+C_Makine\n",
        "        \n",
        "    if Toplam == 100:\n",
        "    \n",
        "        A_Makine_Kusurlu = int(input(\"A makinesi ürünlerin % kaçını kusurlu üretmektedir? = \"))\n",
        "        B_Makine_Kusurlu = int(input(\"B makinesi ürünlerin % kaçını kusurlu üretmektedir? = \"))\n",
        "        C_Makine_Kusurlu = int(input(\"C makinesi ürünlerin % kaçını kusurlu üretmektedir? = \"))\n",
        "        Toplam_Kusurlu_Üretim =(A_Makine/100)*(A_Makine_Kusurlu/100)+(B_Makine/100)*(B_Makine_Kusurlu/100)+(C_Makine/100)*(C_Makine_Kusurlu/100)\n",
        "        print('Toplam kusurlu üretim:',Toplam_Kusurlu_Üretim)\n",
        "        \n",
        "        A_Makine_Kusurlu_Üretim=(A_Makine/100)*(A_Makine_Kusurlu/100)\n",
        "        B_Makine_Kusurlu_Üretim=(B_Makine/100)*(B_Makine_Kusurlu/100)\n",
        "        C_Makine_Kusurlu_Üretim=(C_Makine/100)*(C_Makine_Kusurlu/100)\n",
        "        print('A makinesi kusurlu üretim:',A_Makine_Kusurlu_Üretim)\n",
        "        print('B makinesi kusurlu üretim:',B_Makine_Kusurlu_Üretim)\n",
        "        print('C makinesi kusurlu üretim:',C_Makine_Kusurlu_Üretim)\n",
        "        \n",
        "        Kusurlu_Ürün_A_Makine_Olasılık=A_Makine_Kusurlu_Üretim/Toplam_Kusurlu_Üretim\n",
        "        Kusurlu_Ürün_B_Makine_Olasılık=B_Makine_Kusurlu_Üretim/Toplam_Kusurlu_Üretim\n",
        "        Kusurlu_Ürün_C_Makine_Olasılık=C_Makine_Kusurlu_Üretim/Toplam_Kusurlu_Üretim\n",
        "        print('Kusurlu olan ürünün A makinesinden üretilme olasılığı:',Kusurlu_Ürün_A_Makine_Olasılık)\n",
        "        print('Kusurlu olan ürünün B makinesinden üretilme olasılığı:',Kusurlu_Ürün_B_Makine_Olasılık)\n",
        "        print('Kusurlu olan ürünün C makinesinden üretilme olasılığı:',Kusurlu_Ürün_C_Makine_Olasılık)\n",
        "        key=False\n",
        "        \n",
        "    else:\n",
        "        print('A,B ve C makineleri % değerleri toplamı 100e eşit olmalıdır!!')\n",
        "        key=True\n",
        "  "
      ],
      "execution_count": 6,
      "outputs": [
        {
          "output_type": "stream",
          "text": [
            "A makinesi toplam ürünlerin % kaçını üretmektedir? = 30\n",
            "B makinesi toplam ürünlerin % kaçını üretmektedir? = 50\n",
            "C makinesi toplam ürünlerin % kaçını üretmektedir? = 20\n",
            "A makinesi ürünlerin % kaçını kusurlu üretmektedir? = 4\n",
            "B makinesi ürünlerin % kaçını kusurlu üretmektedir? = 2\n",
            "C makinesi ürünlerin % kaçını kusurlu üretmektedir? = 5\n",
            "Toplam kusurlu üretim: 0.032\n",
            "A makinesi kusurlu üretim: 0.012\n",
            "B makinesi kusurlu üretim: 0.01\n",
            "C makinesi kusurlu üretim: 0.010000000000000002\n",
            "Kusurlu olan ürünün A makinesinden üretilme olasılığı:  0.375\n",
            "Kusurlu olan ürünün B makinesinden üretilme olasılığı: 0.3125\n",
            "Kusurlu olan ürünün C makinesinden üretilme olasılığı: 0.31250000000000006\n"
          ],
          "name": "stdout"
        }
      ]
    },
    {
      "metadata": {
        "id": "nrdMOgIBI1nv",
        "colab_type": "code",
        "colab": {}
      },
      "cell_type": "code",
      "source": [
        ""
      ],
      "execution_count": 0,
      "outputs": []
    },
    {
      "metadata": {
        "id": "Ykfyri12I1n2",
        "colab_type": "code",
        "colab": {}
      },
      "cell_type": "code",
      "source": [
        ""
      ],
      "execution_count": 0,
      "outputs": []
    }
  ]
}